{
 "cells": [
  {
   "cell_type": "code",
   "execution_count": 1,
   "metadata": {
    "collapsed": true
   },
   "outputs": [],
   "source": [
    "import numpy as np\n",
    "import matplotlib.pyplot as plt"
   ]
  },
  {
   "cell_type": "code",
   "execution_count": 10,
   "metadata": {
    "collapsed": false
   },
   "outputs": [],
   "source": [
    "def delta_seq(patterns,targets,W,lr):\n",
    "    for i in range(0,patterns.shape[0]):\n",
    "        delta=-lr*np.dot((np.dot(patterns[i,:],W)-targets[i]),patterns[i,:])\n",
    "        W += delta\n",
    "    return W\n",
    "\n",
    "def step(x):\n",
    "    return 1 if x>0 else 0\n",
    "\n",
    "def perceptron_seq(patterns,targets,W,lr):\n",
    "    for i in range(0,patterns.shape[0]):\n",
    "        delta=-lr*np.dot((step(np.dot(patterns[i,:],W)>0)-targets[i]),patterns[i,:])\n",
    "        W += delta\n",
    "    return W\n",
    "\n",
    "def delta_batch(patterns,targets,W,lr):\n",
    "    delta=-lr*np.matmul((np.matmul(patterns,W)-targets),patterns)\n",
    "    return W + delta"
   ]
  },
  {
   "cell_type": "code",
   "execution_count": 13,
   "metadata": {},
   "outputs": [],
   "source": [
    "def plot_boundary(W):\n",
    "    t=np.linspace(-3,3)\n",
    "    plt.plot(t,((W[0]*t+W[2])/W[1]))"
   ]
  },
  {
   "attachments": {},
   "cell_type": "markdown",
   "metadata": {},
   "source": [
    "Initalize stuff"
   ]
  },
  {
   "cell_type": "code",
   "execution_count": 53,
   "metadata": {
    "collapsed": false
   },
   "outputs": [
    {
     "name": "stdout",
     "output_type": "stream",
     "text": [
      "[[ 2.18499544  3.79545918  2.38039517 -1.71495159 -1.74369044]\n",
      " [ 2.00858888  1.77055024  3.93352845 -1.206147   -1.5959963 ]\n",
      " [ 1.          1.          1.          1.          1.        ]]\n",
      "[ 1.  1.  1. -1. -1.]\n"
     ]
    },
    {
     "data": {
      "image/png": "[encoded data removed]",
      "text/plain": [
       "<Figure size 432x288 with 1 Axes>"
      ]
     },
     "metadata": {
      "needs_background": "light"
     },
     "output_type": "display_data"
    }
   ],
   "source": [
    "# Parameters\n",
    "lr=0.001\n",
    "epochs=20\n",
    "W=np.random.normal(0,1,3)\n",
    "\n",
    "# Create and plot dataset\n",
    "data = np.ones((3,200))\n",
    "data[0:2,:100] = np.random.multivariate_normal([2,2],[[0.5,0],[0,0.5]],100).T\n",
    "data[0:2,100:] = np.random.multivariate_normal([-2,-2],[[0.5,0],[0,0.5]],100).T\n",
    "plt.scatter(data[0,:100],data[1,:100])\n",
    "plt.ylim(-4,4)\n",
    "plt.scatter(data[0,100:],data[1,100:],c='deeppink')\n",
    "\n",
    "target=np.ones((1,200))\n",
    "target[0,100:]=-1\n",
    "\n",
    "np.random.seed(42)\n",
    "p = np.random.permutation(target.shape[1])\n",
    "data = data[:,p]\n",
    "target = target[0,p]\n"
   ]
  },
  {
   "cell_type": "code",
   "execution_count": null,
   "metadata": {},
   "outputs": [],
   "source": [
    "W_delta_seq = W\n",
    "W_perceptron_seq = W\n",
    "W_delta_batch = W\n",
    "for lr in [0.001,0.01,0.1,0.5]:\n",
    "    for _ in range(epochs):\n",
    "        W_delta_seq = delta_seq(data,target,W_delta_seq,lr)\n",
    "        W_perceptron_seq = perceptron_seq(data,target,W_perceptron_seq,lr)\n",
    "        W_delta_batch = delta_batch(data,target,W_delta_batch,lr)\n",
    "        \n",
    "        next_output=np.matmul(data,new_weight)\n",
    "        output_w=delta_sequent(epochs,data,target,W)"
   ]
  },
  {
   "cell_type": "code",
   "execution_count": 4,
   "metadata": {
    "collapsed": false
   },
   "outputs": [],
   "source": []
  }
 ],
 "metadata": {
  "kernelspec": {
   "display_name": "Python 3",
   "language": "python",
   "name": "python3"
  },
  "language_info": {
   "codemirror_mode": {
    "name": "ipython",
    "version": 3
   },
   "file_extension": ".py",
   "mimetype": "text/x-python",
   "name": "python",
   "nbconvert_exporter": "python",
   "pygments_lexer": "ipython3",
   "version": "3.7.12"
  },
  "vscode": {
   "interpreter": {
    "hash": "7a3d88c904243d2c3f246166597f86d1c0a39f3d97496d1fe394945d0c6d436d"
   }
  }
 },
 "nbformat": 4,
 "nbformat_minor": 0
}
