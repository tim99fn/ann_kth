{
 "cells": [
  {
   "cell_type": "markdown",
   "id": "05c6fa2a",
   "metadata": {},
   "source": [
    "Import libraries"
   ]
  },
  {
   "cell_type": "code",
   "execution_count": 127,
   "id": "7f18d1fa",
   "metadata": {},
   "outputs": [],
   "source": [
    "import numpy as np\n",
    "import random\n",
    "import matplotlib.pyplot as plt\n",
    "from IPython.display import display, clear_output"
   ]
  },
  {
   "cell_type": "markdown",
   "id": "9fc129e0",
   "metadata": {},
   "source": [
    "Delta rule"
   ]
  },
  {
   "cell_type": "code",
   "execution_count": 34,
   "id": "c1249e1d",
   "metadata": {},
   "outputs": [],
   "source": [
    "n_epochs = 20\n",
    "lr = 0.001\n",
    "patterns = np.array([\n",
    "    [-1, -1, 1],\n",
    "    [ 1, -1, 1],\n",
    "    [-1,  1, 1],\n",
    "    [ 1,  1, 1],\n",
    "])\n",
    "targets = np.array([-1, 1, 1, -1])\n",
    "\n",
    "def init_weights(mu, sigma, size) -> np.ndarray:\n",
    "    weights = np.random.normal(mu, sigma, size)\n",
    "    return weights\n",
    "\n",
    "mu, sigma = 0, 0.1\n",
    "weights = init_weights(mu, sigma, patterns.shape[1])"
   ]
  },
  {
   "cell_type": "code",
   "execution_count": 35,
   "id": "d814ed33",
   "metadata": {
    "scrolled": true
   },
   "outputs": [
    {
     "name": "stdout",
     "output_type": "stream",
     "text": [
      "[ 0.36406335  0.21200548 -0.01479396 -0.16685183]\n"
     ]
    }
   ],
   "source": [
    "print(patterns.dot(weights))"
   ]
  },
  {
   "cell_type": "code",
   "execution_count": 36,
   "id": "0a1f0b81",
   "metadata": {},
   "outputs": [],
   "source": [
    "def delta_rule(patterns, targets, weights, lr):\n",
    "    delta_weights = -lr*(patterns.dot(weights) - targets).dot(patterns)\n",
    "    return delta_weights\n",
    "\n",
    "delta_weights = delta_rule(patterns, targets, weights, lr)"
   ]
  },
  {
   "cell_type": "code",
   "execution_count": 37,
   "id": "d43a2b06",
   "metadata": {
    "scrolled": true
   },
   "outputs": [
    {
     "name": "stdout",
     "output_type": "stream",
     "text": [
      "[ 0.00030412  0.00075771 -0.00039442]\n"
     ]
    }
   ],
   "source": [
    "print(delta_weights)"
   ]
  },
  {
   "cell_type": "code",
   "execution_count": 41,
   "id": "8c621b7f",
   "metadata": {},
   "outputs": [
    {
     "name": "stdout",
     "output_type": "stream",
     "text": [
      "Learned patterns: [ 0.28624458  0.16668917 -0.01163174 -0.13118714]\n"
     ]
    }
   ],
   "source": [
    "for epoch in range(n_epochs):\n",
    "    # print(f'Computing epoch {epoch}')\n",
    "    delta_weights = delta_rule(patterns, targets, weights, lr)\n",
    "    weights += delta_weights\n",
    "output = patterns.dot(weights)\n",
    "print(f'Learned patterns: {output}')"
   ]
  },
  {
   "cell_type": "markdown",
   "id": "8e5e5df7",
   "metadata": {},
   "source": [
    "Generation of linearly-separable data"
   ]
  },
  {
   "cell_type": "code",
   "execution_count": 87,
   "id": "1034324f",
   "metadata": {},
   "outputs": [
    {
     "data": {
      "image/png": "[encoded data removed]",
      "text/plain": [
       "<Figure size 640x480 with 1 Axes>"
      ]
     },
     "metadata": {},
     "output_type": "display_data"
    }
   ],
   "source": [
    "# Define constants\n",
    "n_points = 100\n",
    "dim = 2\n",
    "muA, sigmaA = [1, 0.5], 0.5\n",
    "muB, sigmaB = [-1, 0.5], 0.5\n",
    "\n",
    "# Generate sample data based on normal distribution\n",
    "def sample_data(n_points, dim, mu, sigma):\n",
    "    size = (n_points, dim)\n",
    "    points = np.random.normal(mu, sigma, size)\n",
    "    \n",
    "    # add ones for bias\n",
    "    points = np.hstack((points, np.ones((n_points, 1))))\n",
    "    return points\n",
    "\n",
    "classA = sample_data(n_points, dim, muA, sigmaA)\n",
    "classB = sample_data(n_points, dim, muB, sigmaB)\n",
    "\n",
    "plt.scatter(classA[:, 0], classA[:, 1])\n",
    "plt.scatter(classB[:, 0], classB[:, 1])\n",
    "plt.show()"
   ]
  },
  {
   "cell_type": "code",
   "execution_count": 165,
   "id": "0a56609f",
   "metadata": {},
   "outputs": [],
   "source": [
    "def delta_weights_batch(X, T, W, lr):\n",
    "    delta_W = -lr*(X.dot(W) - T).dot(X)\n",
    "    return delta_W\n",
    "\n",
    "def delta_weights_seq(x, t, W, lr):\n",
    "    delta_W = -lr*(x.dot(W) - t) * (x)\n",
    "    return delta_W\n",
    "\n",
    "def sigmoid(x):\n",
    "    z = np.exp(-x)\n",
    "    sig = 1 / (1 + z)\n",
    "    return sig\n",
    "\n",
    "def perceptron_weights_seq(x, t, W, lr):\n",
    "    delta_W = -lr*(sigmoid(x.dot(W)) - t) * (x)\n",
    "    return delta_W\n",
    "\n",
    "def plot_points_and_boundary(classA, classB, w):\n",
    "    \n",
    "    fig, ax = plt.subplots()\n",
    "    \n",
    "    ax.scatter(classA[:, 0], classA[:, 1])\n",
    "    ax.scatter(classB[:, 0], classB[:, 1])\n",
    "    \n",
    "    # plot decision boundary\n",
    "    X = np.vstack((classA, classB))\n",
    "    \n",
    "    plot_min = np.min(X, axis=0)\n",
    "    plot_max = np.max(X, axis=0)\n",
    "    \n",
    "    ax.set_xlim([plot_min[0], plot_max[0]])\n",
    "    ax.set_ylim([plot_min[1], plot_max[0]])\n",
    "    \n",
    "    x = np.linspace(-5, 5, 100)\n",
    "    y = (w[0] * x + w[2])/w[1]\n",
    "    ax.plot(x, y, 'r')\n",
    "    \n",
    "    \n",
    "    display(fig)    \n",
    "    clear_output(wait = True)\n",
    "    # plt.pause(0.001)\n",
    "    "
   ]
  },
  {
   "cell_type": "code",
   "execution_count": null,
   "id": "690830c1",
   "metadata": {},
   "outputs": [
    {
     "data": {
      "image/png": "[encoded data removed]",
      "text/plain": [
       "<Figure size 640x480 with 1 Axes>"
      ]
     },
     "metadata": {},
     "output_type": "display_data"
    }
   ],
   "source": [
    "X = np.vstack((classA, classB))\n",
    "T = np.hstack((-np.ones(n_points), np.ones(n_points)))\n",
    "\n",
    "mu, sigma = 0, 0.1\n",
    "W_init = init_weights(mu, sigma, X.shape[1])\n",
    "\n",
    "# print(W)\n",
    "\n",
    "lr = 0.001\n",
    "\n",
    "def delta_rule_batch(n_epochs, X, T, W, lr):\n",
    "    for epoch in range(n_epochs):\n",
    "        delta_W = delta_weights_batch(X, T, W, lr)\n",
    "        W += delta_W\n",
    "        plot_points_and_boundary(classA, classB, W)\n",
    "    return W\n",
    "        \n",
    "\n",
    "def delta_rule_seq(n_epochs, X, T, W, lr):\n",
    "    for epoch in range(n_epochs):\n",
    "        for x, t in zip(X, T):\n",
    "            delta_W = delta_weights_seq(x, t, W, lr)\n",
    "            W += delta_W\n",
    "            plot_points_and_boundary(classA, classB, W)\n",
    "    return W\n",
    "\n",
    "def perceptron_seq(n_epochs, X, T, W, lr):\n",
    "    for epoch in range(n_epochs):\n",
    "        for x, t in zip(X, T):\n",
    "            delta_W = perceptron_weights_seq(x, t, W, lr)\n",
    "            W += delta_W\n",
    "            plot_points_and_boundary(classA, classB, W)\n",
    "    return W\n",
    "\n",
    "# W_batch = delta_rule_batch(n_epochs, X, T, W_init, lr)\n",
    "# W_seq = delta_rule_seq(n_epochs, X, T, W_init, lr)\n",
    "W_seq = perceptron_seq(n_epochs, X, T, W_init, lr)\n",
    "\n",
    "print(W_batch)\n",
    "print(W_seq)\n",
    "# output = X.dot(W)\n",
    "# print(f'Learned patterns: {output}')"
   ]
  },
  {
   "cell_type": "code",
   "execution_count": 70,
   "id": "69b8224d",
   "metadata": {},
   "outputs": [
    {
     "name": "stdout",
     "output_type": "stream",
     "text": [
      "[array([1., 1., 1., 1., 1., 1., 1., 1., 1., 1., 1., 1., 1., 1., 1., 1., 1.,\n",
      "       1., 1., 1., 1., 1., 1., 1., 1., 1., 1., 1., 1., 1., 1., 1., 1., 1.,\n",
      "       1., 1., 1., 1., 1., 1., 1., 1., 1., 1., 1., 1., 1., 1., 1., 1., 1.,\n",
      "       1., 1., 1., 1., 1., 1., 1., 1., 1., 1., 1., 1., 1., 1., 1., 1., 1.,\n",
      "       1., 1., 1., 1., 1., 1., 1., 1., 1., 1., 1., 1., 1., 1., 1., 1., 1.,\n",
      "       1., 1., 1., 1., 1., 1., 1., 1., 1., 1., 1., 1., 1., 1., 1.])]\n"
     ]
    }
   ],
   "source": [
    "print([np.ones(n_points)])"
   ]
  },
  {
   "cell_type": "code",
   "execution_count": null,
   "id": "8cf8af6f",
   "metadata": {},
   "outputs": [],
   "source": []
  }
 ],
 "metadata": {
  "kernelspec": {
   "display_name": "Python 3 (ipykernel)",
   "language": "python",
   "name": "python3"
  },
  "language_info": {
   "codemirror_mode": {
    "name": "ipython",
    "version": 3
   },
   "file_extension": ".py",
   "mimetype": "text/x-python",
   "name": "python",
   "nbconvert_exporter": "python",
   "pygments_lexer": "ipython3",
   "version": "3.8.15"
  }
 },
 "nbformat": 4,
 "nbformat_minor": 5
}
